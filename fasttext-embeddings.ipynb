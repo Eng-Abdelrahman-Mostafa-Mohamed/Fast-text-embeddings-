{
 "cells": [
  {
   "cell_type": "code",
   "execution_count": 1,
   "id": "9811b43d",
   "metadata": {
    "_cell_guid": "b1076dfc-b9ad-4769-8c92-a6c4dae69d19",
    "_uuid": "8f2839f25d086af736a60e9eeb907d3b93b6e0e5",
    "execution": {
     "iopub.execute_input": "2024-04-16T23:01:45.395706Z",
     "iopub.status.busy": "2024-04-16T23:01:45.395304Z",
     "iopub.status.idle": "2024-04-16T23:02:06.762876Z",
     "shell.execute_reply": "2024-04-16T23:02:06.761753Z"
    },
    "papermill": {
     "duration": 21.376507,
     "end_time": "2024-04-16T23:02:06.764934",
     "exception": false,
     "start_time": "2024-04-16T23:01:45.388427",
     "status": "completed"
    },
    "tags": []
   },
   "outputs": [
    {
     "name": "stderr",
     "output_type": "stream",
     "text": [
      "/opt/conda/lib/python3.10/site-packages/cudf/utils/_numba.py:110: UserWarning: Using CUDA toolkit version (12, 4) with CUDA driver version (12, 2) requires minor version compatibility, which is not yet supported for CUDA driver versions 12.0 and above. It is likely that many cuDF operations will not work in this state. Please install CUDA toolkit version (12, 2) to continue using cuDF.\n",
      "  warnings.warn(\n",
      "<frozen importlib._bootstrap>:241: RuntimeWarning: pyarrow.lib.IpcWriteOptions size changed, may indicate binary incompatibility. Expected 72 from C header, got 88 from PyObject\n",
      "<frozen importlib._bootstrap>:241: RuntimeWarning: pyarrow.lib.IpcReadOptions size changed, may indicate binary incompatibility. Expected 96 from C header, got 104 from PyObject\n",
      "<frozen importlib._bootstrap>:241: RuntimeWarning: pyarrow.lib.NativeFile size changed, may indicate binary incompatibility. Expected 96 from C header, got 104 from PyObject\n",
      "<frozen importlib._bootstrap>:241: RuntimeWarning: pyarrow.lib.BufferedInputStream size changed, may indicate binary incompatibility. Expected 96 from C header, got 104 from PyObject\n",
      "<frozen importlib._bootstrap>:241: RuntimeWarning: pyarrow.lib.BufferedOutputStream size changed, may indicate binary incompatibility. Expected 96 from C header, got 104 from PyObject\n",
      "<frozen importlib._bootstrap>:241: RuntimeWarning: pyarrow.lib.CompressedInputStream size changed, may indicate binary incompatibility. Expected 96 from C header, got 104 from PyObject\n",
      "<frozen importlib._bootstrap>:241: RuntimeWarning: pyarrow.lib.CompressedOutputStream size changed, may indicate binary incompatibility. Expected 96 from C header, got 104 from PyObject\n"
     ]
    },
    {
     "name": "stdout",
     "output_type": "stream",
     "text": [
      "[nltk_data] Downloading package stopwords to /usr/share/nltk_data...\n",
      "[nltk_data]   Package stopwords is already up-to-date!\n",
      "[nltk_data] Downloading package wordnet to /usr/share/nltk_data...\n",
      "[nltk_data]   Package wordnet is already up-to-date!\n"
     ]
    },
    {
     "data": {
      "text/plain": [
       "True"
      ]
     },
     "execution_count": 1,
     "metadata": {},
     "output_type": "execute_result"
    }
   ],
   "source": [
    "from gensim.test.utils import datapath\n",
    "from gensim.models import FastText\n",
    "import pandas as pd\n",
    "import nltk\n",
    "from gensim.parsing.preprocessing import STOPWORDS\n",
    "import re\n",
    "import cupy as cp\n",
    "import spacy\n",
    "import cudf\n",
    "import numpy as np\n",
    "nltk.download('stopwords') \n",
    "nltk.download('wordnet') "
   ]
  },
  {
   "cell_type": "code",
   "execution_count": 2,
   "id": "39d1b2b5",
   "metadata": {
    "execution": {
     "iopub.execute_input": "2024-04-16T23:02:06.777913Z",
     "iopub.status.busy": "2024-04-16T23:02:06.776972Z",
     "iopub.status.idle": "2024-04-16T23:02:06.790219Z",
     "shell.execute_reply": "2024-04-16T23:02:06.789360Z"
    },
    "papermill": {
     "duration": 0.021941,
     "end_time": "2024-04-16T23:02:06.792500",
     "exception": false,
     "start_time": "2024-04-16T23:02:06.770559",
     "status": "completed"
    },
    "tags": []
   },
   "outputs": [
    {
     "data": {
      "text/plain": [
       "frozenset({'a',\n",
       "           'about',\n",
       "           'above',\n",
       "           'across',\n",
       "           'after',\n",
       "           'afterwards',\n",
       "           'again',\n",
       "           'against',\n",
       "           'all',\n",
       "           'almost',\n",
       "           'alone',\n",
       "           'along',\n",
       "           'already',\n",
       "           'also',\n",
       "           'although',\n",
       "           'always',\n",
       "           'am',\n",
       "           'among',\n",
       "           'amongst',\n",
       "           'amoungst',\n",
       "           'amount',\n",
       "           'an',\n",
       "           'and',\n",
       "           'another',\n",
       "           'any',\n",
       "           'anyhow',\n",
       "           'anyone',\n",
       "           'anything',\n",
       "           'anyway',\n",
       "           'anywhere',\n",
       "           'are',\n",
       "           'around',\n",
       "           'as',\n",
       "           'at',\n",
       "           'back',\n",
       "           'be',\n",
       "           'became',\n",
       "           'because',\n",
       "           'become',\n",
       "           'becomes',\n",
       "           'becoming',\n",
       "           'been',\n",
       "           'before',\n",
       "           'beforehand',\n",
       "           'behind',\n",
       "           'being',\n",
       "           'below',\n",
       "           'beside',\n",
       "           'besides',\n",
       "           'between',\n",
       "           'beyond',\n",
       "           'bill',\n",
       "           'both',\n",
       "           'bottom',\n",
       "           'but',\n",
       "           'by',\n",
       "           'call',\n",
       "           'can',\n",
       "           'cannot',\n",
       "           'cant',\n",
       "           'co',\n",
       "           'computer',\n",
       "           'con',\n",
       "           'could',\n",
       "           'couldnt',\n",
       "           'cry',\n",
       "           'de',\n",
       "           'describe',\n",
       "           'detail',\n",
       "           'did',\n",
       "           'didn',\n",
       "           'do',\n",
       "           'does',\n",
       "           'doesn',\n",
       "           'doing',\n",
       "           'don',\n",
       "           'done',\n",
       "           'down',\n",
       "           'due',\n",
       "           'during',\n",
       "           'each',\n",
       "           'eg',\n",
       "           'eight',\n",
       "           'either',\n",
       "           'eleven',\n",
       "           'else',\n",
       "           'elsewhere',\n",
       "           'empty',\n",
       "           'enough',\n",
       "           'etc',\n",
       "           'even',\n",
       "           'ever',\n",
       "           'every',\n",
       "           'everyone',\n",
       "           'everything',\n",
       "           'everywhere',\n",
       "           'except',\n",
       "           'few',\n",
       "           'fifteen',\n",
       "           'fifty',\n",
       "           'fill',\n",
       "           'find',\n",
       "           'fire',\n",
       "           'first',\n",
       "           'five',\n",
       "           'for',\n",
       "           'former',\n",
       "           'formerly',\n",
       "           'forty',\n",
       "           'found',\n",
       "           'four',\n",
       "           'from',\n",
       "           'front',\n",
       "           'full',\n",
       "           'further',\n",
       "           'get',\n",
       "           'give',\n",
       "           'go',\n",
       "           'had',\n",
       "           'has',\n",
       "           'hasnt',\n",
       "           'have',\n",
       "           'he',\n",
       "           'hence',\n",
       "           'her',\n",
       "           'here',\n",
       "           'hereafter',\n",
       "           'hereby',\n",
       "           'herein',\n",
       "           'hereupon',\n",
       "           'hers',\n",
       "           'herself',\n",
       "           'him',\n",
       "           'himself',\n",
       "           'his',\n",
       "           'how',\n",
       "           'however',\n",
       "           'hundred',\n",
       "           'i',\n",
       "           'ie',\n",
       "           'if',\n",
       "           'in',\n",
       "           'inc',\n",
       "           'indeed',\n",
       "           'interest',\n",
       "           'into',\n",
       "           'is',\n",
       "           'it',\n",
       "           'its',\n",
       "           'itself',\n",
       "           'just',\n",
       "           'keep',\n",
       "           'kg',\n",
       "           'km',\n",
       "           'last',\n",
       "           'latter',\n",
       "           'latterly',\n",
       "           'least',\n",
       "           'less',\n",
       "           'ltd',\n",
       "           'made',\n",
       "           'make',\n",
       "           'many',\n",
       "           'may',\n",
       "           'me',\n",
       "           'meanwhile',\n",
       "           'might',\n",
       "           'mill',\n",
       "           'mine',\n",
       "           'more',\n",
       "           'moreover',\n",
       "           'most',\n",
       "           'mostly',\n",
       "           'move',\n",
       "           'much',\n",
       "           'must',\n",
       "           'my',\n",
       "           'myself',\n",
       "           'name',\n",
       "           'namely',\n",
       "           'neither',\n",
       "           'never',\n",
       "           'nevertheless',\n",
       "           'next',\n",
       "           'nine',\n",
       "           'no',\n",
       "           'nobody',\n",
       "           'none',\n",
       "           'noone',\n",
       "           'nor',\n",
       "           'not',\n",
       "           'nothing',\n",
       "           'now',\n",
       "           'nowhere',\n",
       "           'of',\n",
       "           'off',\n",
       "           'often',\n",
       "           'on',\n",
       "           'once',\n",
       "           'one',\n",
       "           'only',\n",
       "           'onto',\n",
       "           'or',\n",
       "           'other',\n",
       "           'others',\n",
       "           'otherwise',\n",
       "           'our',\n",
       "           'ours',\n",
       "           'ourselves',\n",
       "           'out',\n",
       "           'over',\n",
       "           'own',\n",
       "           'part',\n",
       "           'per',\n",
       "           'perhaps',\n",
       "           'please',\n",
       "           'put',\n",
       "           'quite',\n",
       "           'rather',\n",
       "           're',\n",
       "           'really',\n",
       "           'regarding',\n",
       "           'same',\n",
       "           'say',\n",
       "           'see',\n",
       "           'seem',\n",
       "           'seemed',\n",
       "           'seeming',\n",
       "           'seems',\n",
       "           'serious',\n",
       "           'several',\n",
       "           'she',\n",
       "           'should',\n",
       "           'show',\n",
       "           'side',\n",
       "           'since',\n",
       "           'sincere',\n",
       "           'six',\n",
       "           'sixty',\n",
       "           'so',\n",
       "           'some',\n",
       "           'somehow',\n",
       "           'someone',\n",
       "           'something',\n",
       "           'sometime',\n",
       "           'sometimes',\n",
       "           'somewhere',\n",
       "           'still',\n",
       "           'such',\n",
       "           'system',\n",
       "           'take',\n",
       "           'ten',\n",
       "           'than',\n",
       "           'that',\n",
       "           'the',\n",
       "           'their',\n",
       "           'them',\n",
       "           'themselves',\n",
       "           'then',\n",
       "           'thence',\n",
       "           'there',\n",
       "           'thereafter',\n",
       "           'thereby',\n",
       "           'therefore',\n",
       "           'therein',\n",
       "           'thereupon',\n",
       "           'these',\n",
       "           'they',\n",
       "           'thick',\n",
       "           'thin',\n",
       "           'third',\n",
       "           'this',\n",
       "           'those',\n",
       "           'though',\n",
       "           'three',\n",
       "           'through',\n",
       "           'throughout',\n",
       "           'thru',\n",
       "           'thus',\n",
       "           'to',\n",
       "           'together',\n",
       "           'too',\n",
       "           'top',\n",
       "           'toward',\n",
       "           'towards',\n",
       "           'twelve',\n",
       "           'twenty',\n",
       "           'two',\n",
       "           'un',\n",
       "           'under',\n",
       "           'unless',\n",
       "           'until',\n",
       "           'up',\n",
       "           'upon',\n",
       "           'us',\n",
       "           'used',\n",
       "           'using',\n",
       "           'various',\n",
       "           'very',\n",
       "           'via',\n",
       "           'was',\n",
       "           'we',\n",
       "           'well',\n",
       "           'were',\n",
       "           'what',\n",
       "           'whatever',\n",
       "           'when',\n",
       "           'whence',\n",
       "           'whenever',\n",
       "           'where',\n",
       "           'whereafter',\n",
       "           'whereas',\n",
       "           'whereby',\n",
       "           'wherein',\n",
       "           'whereupon',\n",
       "           'wherever',\n",
       "           'whether',\n",
       "           'which',\n",
       "           'while',\n",
       "           'whither',\n",
       "           'who',\n",
       "           'whoever',\n",
       "           'whole',\n",
       "           'whom',\n",
       "           'whose',\n",
       "           'why',\n",
       "           'will',\n",
       "           'with',\n",
       "           'within',\n",
       "           'without',\n",
       "           'would',\n",
       "           'yet',\n",
       "           'you',\n",
       "           'your',\n",
       "           'yours',\n",
       "           'yourself',\n",
       "           'yourselves'})"
      ]
     },
     "execution_count": 2,
     "metadata": {},
     "output_type": "execute_result"
    }
   ],
   "source": [
    "STOPWORDS"
   ]
  },
  {
   "cell_type": "code",
   "execution_count": 3,
   "id": "6fa3aee1",
   "metadata": {
    "execution": {
     "iopub.execute_input": "2024-04-16T23:02:06.805763Z",
     "iopub.status.busy": "2024-04-16T23:02:06.805480Z",
     "iopub.status.idle": "2024-04-16T23:02:15.898220Z",
     "shell.execute_reply": "2024-04-16T23:02:15.897146Z"
    },
    "papermill": {
     "duration": 9.102545,
     "end_time": "2024-04-16T23:02:15.900978",
     "exception": false,
     "start_time": "2024-04-16T23:02:06.798433",
     "status": "completed"
    },
    "tags": []
   },
   "outputs": [],
   "source": [
    "data_tip=pd.read_json('/kaggle/input/yelp-dataset/yelp_academic_dataset_tip.json', lines=True,)[:50]\n"
   ]
  },
  {
   "cell_type": "code",
   "execution_count": 4,
   "id": "e54b5d4b",
   "metadata": {
    "execution": {
     "iopub.execute_input": "2024-04-16T23:02:15.915790Z",
     "iopub.status.busy": "2024-04-16T23:02:15.915185Z",
     "iopub.status.idle": "2024-04-16T23:02:15.919826Z",
     "shell.execute_reply": "2024-04-16T23:02:15.918790Z"
    },
    "papermill": {
     "duration": 0.014416,
     "end_time": "2024-04-16T23:02:15.922105",
     "exception": false,
     "start_time": "2024-04-16T23:02:15.907689",
     "status": "completed"
    },
    "tags": []
   },
   "outputs": [],
   "source": [
    "tip_text = data_tip['text']"
   ]
  },
  {
   "cell_type": "code",
   "execution_count": 5,
   "id": "d8bed9f7",
   "metadata": {
    "execution": {
     "iopub.execute_input": "2024-04-16T23:02:15.936236Z",
     "iopub.status.busy": "2024-04-16T23:02:15.935936Z",
     "iopub.status.idle": "2024-04-16T23:02:15.943701Z",
     "shell.execute_reply": "2024-04-16T23:02:15.942630Z"
    },
    "papermill": {
     "duration": 0.017845,
     "end_time": "2024-04-16T23:02:15.946575",
     "exception": false,
     "start_time": "2024-04-16T23:02:15.928730",
     "status": "completed"
    },
    "tags": []
   },
   "outputs": [
    {
     "data": {
      "text/plain": [
       "0                       Avengers time with the ladies.\n",
       "1    They have lots of good deserts and tasty cuban...\n",
       "2               It's open even when you think it isn't\n",
       "Name: text, dtype: object"
      ]
     },
     "execution_count": 5,
     "metadata": {},
     "output_type": "execute_result"
    }
   ],
   "source": [
    "tip_text[:3]"
   ]
  },
  {
   "cell_type": "code",
   "execution_count": 6,
   "id": "ca5aa675",
   "metadata": {
    "execution": {
     "iopub.execute_input": "2024-04-16T23:02:15.961056Z",
     "iopub.status.busy": "2024-04-16T23:02:15.960758Z",
     "iopub.status.idle": "2024-04-16T23:03:13.696960Z",
     "shell.execute_reply": "2024-04-16T23:03:13.696070Z"
    },
    "papermill": {
     "duration": 57.746158,
     "end_time": "2024-04-16T23:03:13.699576",
     "exception": false,
     "start_time": "2024-04-16T23:02:15.953418",
     "status": "completed"
    },
    "tags": []
   },
   "outputs": [],
   "source": [
    "import spacy\n",
    "\n",
    "def process_text(document,stopwords=STOPWORDS):\n",
    "    nlp = spacy.load(\"en_core_web_sm\")\n",
    "    document = re.sub(r'\\s+', ' ', document, flags=re.I) \n",
    "    document = re.sub(r'\\W', ' ', str(document)) \n",
    "    document = re.sub(r'\\s+[a-zA-Z]\\s+', ' ', document) \n",
    "    document = document.lower() \n",
    "    doc_spacy=nlp(document)\n",
    "    lemma_txt = [\"\".join(token.lemma_) for token in doc_spacy]\n",
    "    lemma_no_stop_txt = [word for word in lemma_txt if word not in STOPWORDS]\n",
    "    lemma_no_stop_txt = [word for word in lemma_no_stop_txt if len(word) > 3]\n",
    "    clean_txt = ' '.join(lemma_no_stop_txt)\n",
    "    return lemma_no_stop_txt\n",
    "\n",
    "tip_text_preprocessed = tip_text.apply(process_text)\n",
    "\n"
   ]
  },
  {
   "cell_type": "code",
   "execution_count": 7,
   "id": "a0b852e0",
   "metadata": {
    "execution": {
     "iopub.execute_input": "2024-04-16T23:03:13.714009Z",
     "iopub.status.busy": "2024-04-16T23:03:13.713618Z",
     "iopub.status.idle": "2024-04-16T23:03:13.732460Z",
     "shell.execute_reply": "2024-04-16T23:03:13.731474Z"
    },
    "papermill": {
     "duration": 0.028254,
     "end_time": "2024-04-16T23:03:13.734445",
     "exception": false,
     "start_time": "2024-04-16T23:03:13.706191",
     "status": "completed"
    },
    "tags": []
   },
   "outputs": [
    {
     "data": {
      "text/plain": [
       "0                                 [avenger, time, lady]\n",
       "1                [good, desert, tasty, cuban, sandwich]\n",
       "2                                         [open, think]\n",
       "3                              [decent, fried, chicken]\n",
       "4                  [appetizer, platter, special, lunch]\n",
       "5     [chili, single, cheeseburger, onion, pickle, r...\n",
       "6     [saturday, 2013, ride, patco, silver, sleigh, ...\n",
       "7     [probably, good, place, cool, spring, area, wa...\n",
       "8                                               [tacos]\n",
       "9       [starbuck, substitute, boring, downtown, tampa]\n",
       "10                              [order, tortilla, soup]\n",
       "11                             [good, definitely, come]\n",
       "12                                     [hotlight, stop]\n",
       "13                                             [yankee]\n",
       "14                             [basically, food, rally]\n",
       "15    [dinner, close, yvonne, negative, star, restau...\n",
       "16                                [right, right, tight]\n",
       "17    [grill, chicken, entree, delicious, small, por...\n",
       "18                             [bomb, love, dish, like]\n",
       "19                                  [help, mona, phone]\n",
       "20                                          [breakfast]\n",
       "21                          [order, crispy, bake, good]\n",
       "22                                              [crepe]\n",
       "23    [pimento, cheese, taste, great, large, portion...\n",
       "24    [haven, good, place, west, coast, carl, applic...\n",
       "25                                              [yummy]\n",
       "26                            [allow, time, wait, food]\n",
       "27    [look, like, mini, burger, similar, white, cas...\n",
       "28                                               [icky]\n",
       "29             [great, breakfast, buffet, open, public]\n",
       "30                [come, early, good, service, quickly]\n",
       "31         [place, great, coffee, owner, sell, anymore]\n",
       "32                              [great, pancake,      ]\n",
       "33                          [free, shuttle, card, game]\n",
       "34                      [honey, glaze, salmon, amazing]\n",
       "35                 [real, fruit, juice, smoothie, good]\n",
       "36    [good, general, grill, sweet, pork, extra, sauce]\n",
       "37                                  [great, fish, chip]\n",
       "38             [hour, incorrect, yelp, close, saturday]\n",
       "39                                    [slow, attendant]\n",
       "40                            [great, place, breakfast]\n",
       "41                   [come, jelly, bean, sour, weekend]\n",
       "42    [good, mahi, fish, tacos, blacken, great, atmo...\n",
       "43                               [good, steak, tartare]\n",
       "44                                         [drew, brew]\n",
       "45                            [ahead, time, sure, wait]\n",
       "46                 [jimmy, manager, good, thank, place]\n",
       "47           [great, wing, awesome, onion, ring, enjoy]\n",
       "48                                        [yummy, crab]\n",
       "49                                        [work, lunch]\n",
       "Name: text, dtype: object"
      ]
     },
     "execution_count": 7,
     "metadata": {},
     "output_type": "execute_result"
    }
   ],
   "source": [
    "tip_text_preprocessed"
   ]
  },
  {
   "cell_type": "code",
   "execution_count": 8,
   "id": "2c9937df",
   "metadata": {
    "execution": {
     "iopub.execute_input": "2024-04-16T23:03:13.748853Z",
     "iopub.status.busy": "2024-04-16T23:03:13.748205Z",
     "iopub.status.idle": "2024-04-16T23:03:19.466585Z",
     "shell.execute_reply": "2024-04-16T23:03:19.465517Z"
    },
    "papermill": {
     "duration": 5.728501,
     "end_time": "2024-04-16T23:03:19.469400",
     "exception": false,
     "start_time": "2024-04-16T23:03:13.740899",
     "status": "completed"
    },
    "tags": []
   },
   "outputs": [],
   "source": [
    "model3= FastText(vector_size=50,workers=20,window=3,sg=1, min_count=1,sentences=tip_text_preprocessed, epochs=1000)"
   ]
  },
  {
   "cell_type": "code",
   "execution_count": 9,
   "id": "74878720",
   "metadata": {
    "execution": {
     "iopub.execute_input": "2024-04-16T23:03:19.485930Z",
     "iopub.status.busy": "2024-04-16T23:03:19.485035Z",
     "iopub.status.idle": "2024-04-16T23:03:19.492960Z",
     "shell.execute_reply": "2024-04-16T23:03:19.491890Z"
    },
    "papermill": {
     "duration": 0.018499,
     "end_time": "2024-04-16T23:03:19.495182",
     "exception": false,
     "start_time": "2024-04-16T23:03:19.476683",
     "status": "completed"
    },
    "tags": []
   },
   "outputs": [
    {
     "data": {
      "text/plain": [
       "array([[ 0.15335172,  0.58821344,  0.30430937, ...,  0.04975872,\n",
       "        -0.5192971 ,  0.0720299 ],\n",
       "       [-0.43196577,  0.32119054,  0.6318146 , ..., -0.12445339,\n",
       "        -0.06785066, -0.16140959],\n",
       "       [-0.15478744,  0.4927729 ,  0.6094719 , ...,  0.2843802 ,\n",
       "         0.01366221,  0.23074089],\n",
       "       ...,\n",
       "       [ 0.37163493,  0.03581389,  0.3593771 , ..., -0.0525254 ,\n",
       "         0.28422394,  0.29095733],\n",
       "       [ 0.4566189 ,  0.0715327 ,  0.4561432 , ..., -0.00798853,\n",
       "         0.2976988 ,  0.4228544 ],\n",
       "       [ 0.24755485,  0.6948096 ,  0.80767107, ..., -0.05976299,\n",
       "        -0.05170526, -0.30345526]], dtype=float32)"
      ]
     },
     "execution_count": 9,
     "metadata": {},
     "output_type": "execute_result"
    }
   ],
   "source": [
    "model3.wv.vectors_vocab "
   ]
  },
  {
   "cell_type": "code",
   "execution_count": 10,
   "id": "8ef3dac6",
   "metadata": {
    "execution": {
     "iopub.execute_input": "2024-04-16T23:03:19.510498Z",
     "iopub.status.busy": "2024-04-16T23:03:19.510150Z",
     "iopub.status.idle": "2024-04-16T23:03:19.516468Z",
     "shell.execute_reply": "2024-04-16T23:03:19.515503Z"
    },
    "papermill": {
     "duration": 0.016352,
     "end_time": "2024-04-16T23:03:19.518505",
     "exception": false,
     "start_time": "2024-04-16T23:03:19.502153",
     "status": "completed"
    },
    "tags": []
   },
   "outputs": [
    {
     "data": {
      "text/plain": [
       "0.75"
      ]
     },
     "execution_count": 10,
     "metadata": {},
     "output_type": "execute_result"
    }
   ],
   "source": [
    "model3.ns_exponent #PROBABILITY OF NEGATIVE WORD SAMPLING"
   ]
  },
  {
   "cell_type": "code",
   "execution_count": 11,
   "id": "e49dcea9",
   "metadata": {
    "execution": {
     "iopub.execute_input": "2024-04-16T23:03:19.534123Z",
     "iopub.status.busy": "2024-04-16T23:03:19.533298Z",
     "iopub.status.idle": "2024-04-16T23:03:19.541577Z",
     "shell.execute_reply": "2024-04-16T23:03:19.540462Z"
    },
    "papermill": {
     "duration": 0.018361,
     "end_time": "2024-04-16T23:03:19.543855",
     "exception": false,
     "start_time": "2024-04-16T23:03:19.525494",
     "status": "completed"
    },
    "tags": []
   },
   "outputs": [
    {
     "name": "stdout",
     "output_type": "stream",
     "text": [
      "[('castle', 0.8580734133720398), ('carl', 0.8387580513954163), ('shuttle', 0.8183960914611816), ('card', 0.8177192807197571), ('applicable', 0.8158126473426819), ('long', 0.8083181977272034), ('menu', 0.8061986565589905), ('coast', 0.7972036004066467), ('turkey', 0.7936736941337585), ('mini', 0.7890226244926453)]\n"
     ]
    }
   ],
   "source": [
    "similar_words = model3.wv.most_similar(positive=['cat'], topn=10)\n",
    "print(similar_words)\n"
   ]
  },
  {
   "cell_type": "code",
   "execution_count": null,
   "id": "d98132a4",
   "metadata": {
    "papermill": {
     "duration": 0.006566,
     "end_time": "2024-04-16T23:03:19.558798",
     "exception": false,
     "start_time": "2024-04-16T23:03:19.552232",
     "status": "completed"
    },
    "tags": []
   },
   "outputs": [],
   "source": []
  },
  {
   "cell_type": "code",
   "execution_count": null,
   "id": "3f9490b1",
   "metadata": {
    "papermill": {
     "duration": 0.006605,
     "end_time": "2024-04-16T23:03:19.571709",
     "exception": false,
     "start_time": "2024-04-16T23:03:19.565104",
     "status": "completed"
    },
    "tags": []
   },
   "outputs": [],
   "source": []
  },
  {
   "cell_type": "code",
   "execution_count": 12,
   "id": "f92db10c",
   "metadata": {
    "execution": {
     "iopub.execute_input": "2024-04-16T23:03:19.586120Z",
     "iopub.status.busy": "2024-04-16T23:03:19.585759Z",
     "iopub.status.idle": "2024-04-16T23:03:19.592091Z",
     "shell.execute_reply": "2024-04-16T23:03:19.591196Z"
    },
    "papermill": {
     "duration": 0.016121,
     "end_time": "2024-04-16T23:03:19.594263",
     "exception": false,
     "start_time": "2024-04-16T23:03:19.578142",
     "status": "completed"
    },
    "tags": []
   },
   "outputs": [
    {
     "data": {
      "text/plain": [
       "173"
      ]
     },
     "execution_count": 12,
     "metadata": {},
     "output_type": "execute_result"
    }
   ],
   "source": [
    "len(model3.wv.key_to_index)"
   ]
  },
  {
   "cell_type": "code",
   "execution_count": 13,
   "id": "4c167dde",
   "metadata": {
    "execution": {
     "iopub.execute_input": "2024-04-16T23:03:19.609844Z",
     "iopub.status.busy": "2024-04-16T23:03:19.609535Z",
     "iopub.status.idle": "2024-04-16T23:03:19.615024Z",
     "shell.execute_reply": "2024-04-16T23:03:19.613980Z"
    },
    "papermill": {
     "duration": 0.015744,
     "end_time": "2024-04-16T23:03:19.617255",
     "exception": false,
     "start_time": "2024-04-16T23:03:19.601511",
     "status": "completed"
    },
    "tags": []
   },
   "outputs": [],
   "source": [
    "sims = model3.wv.most_similar('lots',topn=10) "
   ]
  },
  {
   "cell_type": "code",
   "execution_count": 14,
   "id": "6dc7ec4b",
   "metadata": {
    "execution": {
     "iopub.execute_input": "2024-04-16T23:03:19.633002Z",
     "iopub.status.busy": "2024-04-16T23:03:19.632683Z",
     "iopub.status.idle": "2024-04-16T23:03:19.639044Z",
     "shell.execute_reply": "2024-04-16T23:03:19.638113Z"
    },
    "papermill": {
     "duration": 0.016728,
     "end_time": "2024-04-16T23:03:19.641119",
     "exception": false,
     "start_time": "2024-04-16T23:03:19.624391",
     "status": "completed"
    },
    "tags": []
   },
   "outputs": [
    {
     "data": {
      "text/plain": [
       "[('look', 0.9465135931968689),\n",
       " ('mini', 0.9236357808113098),\n",
       " ('similar', 0.9112963080406189),\n",
       " ('castle', 0.9079959988594055),\n",
       " ('burger', 0.892065167427063),\n",
       " ('white', 0.8915032744407654),\n",
       " ('menu', 0.867596447467804),\n",
       " ('long', 0.8670199513435364),\n",
       " ('like', 0.8296854496002197),\n",
       " ('love', 0.8296142220497131)]"
      ]
     },
     "execution_count": 14,
     "metadata": {},
     "output_type": "execute_result"
    }
   ],
   "source": [
    "sims"
   ]
  },
  {
   "cell_type": "code",
   "execution_count": null,
   "id": "3082a909",
   "metadata": {
    "papermill": {
     "duration": 0.006853,
     "end_time": "2024-04-16T23:03:19.655396",
     "exception": false,
     "start_time": "2024-04-16T23:03:19.648543",
     "status": "completed"
    },
    "tags": []
   },
   "outputs": [],
   "source": []
  }
 ],
 "metadata": {
  "kaggle": {
   "accelerator": "gpu",
   "dataSources": [
    {
     "datasetId": 10100,
     "sourceId": 3316532,
     "sourceType": "datasetVersion"
    }
   ],
   "dockerImageVersionId": 30683,
   "isGpuEnabled": true,
   "isInternetEnabled": true,
   "language": "python",
   "sourceType": "notebook"
  },
  "kernelspec": {
   "display_name": "Python 3",
   "language": "python",
   "name": "python3"
  },
  "language_info": {
   "codemirror_mode": {
    "name": "ipython",
    "version": 3
   },
   "file_extension": ".py",
   "mimetype": "text/x-python",
   "name": "python",
   "nbconvert_exporter": "python",
   "pygments_lexer": "ipython3",
   "version": "3.10.13"
  },
  "papermill": {
   "default_parameters": {},
   "duration": 100.270952,
   "end_time": "2024-04-16T23:03:22.725652",
   "environment_variables": {},
   "exception": null,
   "input_path": "__notebook__.ipynb",
   "output_path": "__notebook__.ipynb",
   "parameters": {},
   "start_time": "2024-04-16T23:01:42.454700",
   "version": "2.5.0"
  }
 },
 "nbformat": 4,
 "nbformat_minor": 5
}
